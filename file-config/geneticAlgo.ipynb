{
 "cells": [
  {
   "cell_type": "markdown",
   "metadata": {
    "id": "SLBPyolpdX6p"
   },
   "source": [
    "Importing the Dependencies"
   ]
  },
  {
   "cell_type": "code",
   "execution_count": 1,
   "metadata": {
    "id": "WY0mJgAA050Y"
   },
   "outputs": [],
   "source": [
    "import numpy as np\n",
    "import pandas as pd\n",
    "import tensorflow as tf\n",
    "import seaborn as sns\n",
    "import matplotlib.pyplot as plt\n",
    "\n",
    "from keras.models import Sequential\n",
    "from keras.layers import Dense\n",
    "from keras.optimizers import Adam\n",
    "from keras.layers import Dropout\n",
    "from keras import regularizers"
   ]
  },
  {
   "cell_type": "markdown",
   "metadata": {
    "id": "6Qpj2uOMdiEf"
   },
   "source": [
    "Loading the dataset"
   ]
  },
  {
   "cell_type": "code",
   "execution_count": 2,
   "metadata": {
    "id": "x9scZmQB1pbO"
   },
   "outputs": [],
   "source": [
    "heart_data=pd.read_csv(\"heart.csv\")"
   ]
  },
  {
   "cell_type": "code",
   "execution_count": 3,
   "metadata": {
    "colab": {
     "base_uri": "https://localhost:8080/",
     "height": 423
    },
    "id": "Uc9o2Imf1vpA",
    "outputId": "b9684470-c1c9-4f89-f35f-08ebeda2492d"
   },
   "outputs": [
    {
     "data": {
      "text/html": [
       "<div>\n",
       "<style scoped>\n",
       "    .dataframe tbody tr th:only-of-type {\n",
       "        vertical-align: middle;\n",
       "    }\n",
       "\n",
       "    .dataframe tbody tr th {\n",
       "        vertical-align: top;\n",
       "    }\n",
       "\n",
       "    .dataframe thead th {\n",
       "        text-align: right;\n",
       "    }\n",
       "</style>\n",
       "<table border=\"1\" class=\"dataframe\">\n",
       "  <thead>\n",
       "    <tr style=\"text-align: right;\">\n",
       "      <th></th>\n",
       "      <th>age</th>\n",
       "      <th>sex</th>\n",
       "      <th>cp</th>\n",
       "      <th>trtbps</th>\n",
       "      <th>chol</th>\n",
       "      <th>fbs</th>\n",
       "      <th>restecg</th>\n",
       "      <th>thalachh</th>\n",
       "      <th>exng</th>\n",
       "      <th>oldpeak</th>\n",
       "      <th>slp</th>\n",
       "      <th>caa</th>\n",
       "      <th>thall</th>\n",
       "      <th>output</th>\n",
       "    </tr>\n",
       "  </thead>\n",
       "  <tbody>\n",
       "    <tr>\n",
       "      <th>0</th>\n",
       "      <td>63</td>\n",
       "      <td>1</td>\n",
       "      <td>3</td>\n",
       "      <td>145</td>\n",
       "      <td>233</td>\n",
       "      <td>1</td>\n",
       "      <td>0</td>\n",
       "      <td>150</td>\n",
       "      <td>0</td>\n",
       "      <td>2.3</td>\n",
       "      <td>0</td>\n",
       "      <td>0</td>\n",
       "      <td>1</td>\n",
       "      <td>1</td>\n",
       "    </tr>\n",
       "    <tr>\n",
       "      <th>1</th>\n",
       "      <td>37</td>\n",
       "      <td>1</td>\n",
       "      <td>2</td>\n",
       "      <td>130</td>\n",
       "      <td>250</td>\n",
       "      <td>0</td>\n",
       "      <td>1</td>\n",
       "      <td>187</td>\n",
       "      <td>0</td>\n",
       "      <td>3.5</td>\n",
       "      <td>0</td>\n",
       "      <td>0</td>\n",
       "      <td>2</td>\n",
       "      <td>1</td>\n",
       "    </tr>\n",
       "    <tr>\n",
       "      <th>2</th>\n",
       "      <td>41</td>\n",
       "      <td>0</td>\n",
       "      <td>1</td>\n",
       "      <td>130</td>\n",
       "      <td>204</td>\n",
       "      <td>0</td>\n",
       "      <td>0</td>\n",
       "      <td>172</td>\n",
       "      <td>0</td>\n",
       "      <td>1.4</td>\n",
       "      <td>2</td>\n",
       "      <td>0</td>\n",
       "      <td>2</td>\n",
       "      <td>1</td>\n",
       "    </tr>\n",
       "    <tr>\n",
       "      <th>3</th>\n",
       "      <td>56</td>\n",
       "      <td>1</td>\n",
       "      <td>1</td>\n",
       "      <td>120</td>\n",
       "      <td>236</td>\n",
       "      <td>0</td>\n",
       "      <td>1</td>\n",
       "      <td>178</td>\n",
       "      <td>0</td>\n",
       "      <td>0.8</td>\n",
       "      <td>2</td>\n",
       "      <td>0</td>\n",
       "      <td>2</td>\n",
       "      <td>1</td>\n",
       "    </tr>\n",
       "    <tr>\n",
       "      <th>4</th>\n",
       "      <td>57</td>\n",
       "      <td>0</td>\n",
       "      <td>0</td>\n",
       "      <td>120</td>\n",
       "      <td>354</td>\n",
       "      <td>0</td>\n",
       "      <td>1</td>\n",
       "      <td>163</td>\n",
       "      <td>1</td>\n",
       "      <td>0.6</td>\n",
       "      <td>2</td>\n",
       "      <td>0</td>\n",
       "      <td>2</td>\n",
       "      <td>1</td>\n",
       "    </tr>\n",
       "    <tr>\n",
       "      <th>...</th>\n",
       "      <td>...</td>\n",
       "      <td>...</td>\n",
       "      <td>...</td>\n",
       "      <td>...</td>\n",
       "      <td>...</td>\n",
       "      <td>...</td>\n",
       "      <td>...</td>\n",
       "      <td>...</td>\n",
       "      <td>...</td>\n",
       "      <td>...</td>\n",
       "      <td>...</td>\n",
       "      <td>...</td>\n",
       "      <td>...</td>\n",
       "      <td>...</td>\n",
       "    </tr>\n",
       "    <tr>\n",
       "      <th>298</th>\n",
       "      <td>57</td>\n",
       "      <td>0</td>\n",
       "      <td>0</td>\n",
       "      <td>140</td>\n",
       "      <td>241</td>\n",
       "      <td>0</td>\n",
       "      <td>1</td>\n",
       "      <td>123</td>\n",
       "      <td>1</td>\n",
       "      <td>0.2</td>\n",
       "      <td>1</td>\n",
       "      <td>0</td>\n",
       "      <td>3</td>\n",
       "      <td>0</td>\n",
       "    </tr>\n",
       "    <tr>\n",
       "      <th>299</th>\n",
       "      <td>45</td>\n",
       "      <td>1</td>\n",
       "      <td>3</td>\n",
       "      <td>110</td>\n",
       "      <td>264</td>\n",
       "      <td>0</td>\n",
       "      <td>1</td>\n",
       "      <td>132</td>\n",
       "      <td>0</td>\n",
       "      <td>1.2</td>\n",
       "      <td>1</td>\n",
       "      <td>0</td>\n",
       "      <td>3</td>\n",
       "      <td>0</td>\n",
       "    </tr>\n",
       "    <tr>\n",
       "      <th>300</th>\n",
       "      <td>68</td>\n",
       "      <td>1</td>\n",
       "      <td>0</td>\n",
       "      <td>144</td>\n",
       "      <td>193</td>\n",
       "      <td>1</td>\n",
       "      <td>1</td>\n",
       "      <td>141</td>\n",
       "      <td>0</td>\n",
       "      <td>3.4</td>\n",
       "      <td>1</td>\n",
       "      <td>2</td>\n",
       "      <td>3</td>\n",
       "      <td>0</td>\n",
       "    </tr>\n",
       "    <tr>\n",
       "      <th>301</th>\n",
       "      <td>57</td>\n",
       "      <td>1</td>\n",
       "      <td>0</td>\n",
       "      <td>130</td>\n",
       "      <td>131</td>\n",
       "      <td>0</td>\n",
       "      <td>1</td>\n",
       "      <td>115</td>\n",
       "      <td>1</td>\n",
       "      <td>1.2</td>\n",
       "      <td>1</td>\n",
       "      <td>1</td>\n",
       "      <td>3</td>\n",
       "      <td>0</td>\n",
       "    </tr>\n",
       "    <tr>\n",
       "      <th>302</th>\n",
       "      <td>57</td>\n",
       "      <td>0</td>\n",
       "      <td>1</td>\n",
       "      <td>130</td>\n",
       "      <td>236</td>\n",
       "      <td>0</td>\n",
       "      <td>0</td>\n",
       "      <td>174</td>\n",
       "      <td>0</td>\n",
       "      <td>0.0</td>\n",
       "      <td>1</td>\n",
       "      <td>1</td>\n",
       "      <td>2</td>\n",
       "      <td>0</td>\n",
       "    </tr>\n",
       "  </tbody>\n",
       "</table>\n",
       "<p>303 rows × 14 columns</p>\n",
       "</div>"
      ],
      "text/plain": [
       "     age  sex  cp  trtbps  chol  fbs  restecg  thalachh  exng  oldpeak  slp  \\\n",
       "0     63    1   3     145   233    1        0       150     0      2.3    0   \n",
       "1     37    1   2     130   250    0        1       187     0      3.5    0   \n",
       "2     41    0   1     130   204    0        0       172     0      1.4    2   \n",
       "3     56    1   1     120   236    0        1       178     0      0.8    2   \n",
       "4     57    0   0     120   354    0        1       163     1      0.6    2   \n",
       "..   ...  ...  ..     ...   ...  ...      ...       ...   ...      ...  ...   \n",
       "298   57    0   0     140   241    0        1       123     1      0.2    1   \n",
       "299   45    1   3     110   264    0        1       132     0      1.2    1   \n",
       "300   68    1   0     144   193    1        1       141     0      3.4    1   \n",
       "301   57    1   0     130   131    0        1       115     1      1.2    1   \n",
       "302   57    0   1     130   236    0        0       174     0      0.0    1   \n",
       "\n",
       "     caa  thall  output  \n",
       "0      0      1       1  \n",
       "1      0      2       1  \n",
       "2      0      2       1  \n",
       "3      0      2       1  \n",
       "4      0      2       1  \n",
       "..   ...    ...     ...  \n",
       "298    0      3       0  \n",
       "299    0      3       0  \n",
       "300    2      3       0  \n",
       "301    1      3       0  \n",
       "302    1      2       0  \n",
       "\n",
       "[303 rows x 14 columns]"
      ]
     },
     "execution_count": 3,
     "metadata": {},
     "output_type": "execute_result"
    }
   ],
   "source": [
    "heart_data"
   ]
  },
  {
   "cell_type": "code",
   "execution_count": 4,
   "metadata": {
    "colab": {
     "base_uri": "https://localhost:8080/"
    },
    "id": "6kHiklh51xFW",
    "outputId": "a3555d17-c4fe-47e3-e191-574eed570a29"
   },
   "outputs": [
    {
     "name": "stdout",
     "output_type": "stream",
     "text": [
      "<class 'pandas.core.frame.DataFrame'>\n",
      "RangeIndex: 303 entries, 0 to 302\n",
      "Data columns (total 14 columns):\n",
      " #   Column    Non-Null Count  Dtype  \n",
      "---  ------    --------------  -----  \n",
      " 0   age       303 non-null    int64  \n",
      " 1   sex       303 non-null    int64  \n",
      " 2   cp        303 non-null    int64  \n",
      " 3   trtbps    303 non-null    int64  \n",
      " 4   chol      303 non-null    int64  \n",
      " 5   fbs       303 non-null    int64  \n",
      " 6   restecg   303 non-null    int64  \n",
      " 7   thalachh  303 non-null    int64  \n",
      " 8   exng      303 non-null    int64  \n",
      " 9   oldpeak   303 non-null    float64\n",
      " 10  slp       303 non-null    int64  \n",
      " 11  caa       303 non-null    int64  \n",
      " 12  thall     303 non-null    int64  \n",
      " 13  output    303 non-null    int64  \n",
      "dtypes: float64(1), int64(13)\n",
      "memory usage: 33.3 KB\n"
     ]
    }
   ],
   "source": [
    "heart_data.info()"
   ]
  },
  {
   "cell_type": "code",
   "execution_count": 5,
   "metadata": {
    "colab": {
     "base_uri": "https://localhost:8080/"
    },
    "id": "xPhmvdHB1zth",
    "outputId": "1838dc47-1aeb-41ff-ee7c-e52ea5a0bf32"
   },
   "outputs": [
    {
     "data": {
      "text/plain": [
       "age         0\n",
       "sex         0\n",
       "cp          0\n",
       "trtbps      0\n",
       "chol        0\n",
       "fbs         0\n",
       "restecg     0\n",
       "thalachh    0\n",
       "exng        0\n",
       "oldpeak     0\n",
       "slp         0\n",
       "caa         0\n",
       "thall       0\n",
       "output      0\n",
       "dtype: int64"
      ]
     },
     "execution_count": 5,
     "metadata": {},
     "output_type": "execute_result"
    }
   ],
   "source": [
    "heart_data.isnull().sum()"
   ]
  },
  {
   "cell_type": "markdown",
   "metadata": {
    "id": "Wtm4AUX9dluN"
   },
   "source": [
    "Advanced Preprocessing(Correlation)"
   ]
  },
  {
   "cell_type": "code",
   "execution_count": 6,
   "metadata": {
    "colab": {
     "base_uri": "https://localhost:8080/",
     "height": 836
    },
    "id": "KHDBCC0L2AvO",
    "outputId": "ec25a818-47a2-4ac6-b00d-c2227506603f"
   },
   "outputs": [
    {
     "data": {
      "image/png": "[encoded data removed]",
      "text/plain": [
       "<Figure size 1500x1000 with 2 Axes>"
      ]
     },
     "metadata": {},
     "output_type": "display_data"
    }
   ],
   "source": [
    "plt.figure(figsize=(15,10))\n",
    "sns.heatmap(heart_data.corr(),annot=True)\n",
    "plt.show()"
   ]
  },
  {
   "cell_type": "code",
   "execution_count": 7,
   "metadata": {
    "colab": {
     "base_uri": "https://localhost:8080/",
     "height": 423
    },
    "id": "_Rd5eX-A8oIw",
    "outputId": "a7b4b912-756a-4b04-ff86-3d7a97607b74"
   },
   "outputs": [
    {
     "data": {
      "text/html": [
       "<div>\n",
       "<style scoped>\n",
       "    .dataframe tbody tr th:only-of-type {\n",
       "        vertical-align: middle;\n",
       "    }\n",
       "\n",
       "    .dataframe tbody tr th {\n",
       "        vertical-align: top;\n",
       "    }\n",
       "\n",
       "    .dataframe thead th {\n",
       "        text-align: right;\n",
       "    }\n",
       "</style>\n",
       "<table border=\"1\" class=\"dataframe\">\n",
       "  <thead>\n",
       "    <tr style=\"text-align: right;\">\n",
       "      <th></th>\n",
       "      <th>age</th>\n",
       "      <th>sex</th>\n",
       "      <th>cp</th>\n",
       "      <th>trtbps</th>\n",
       "      <th>chol</th>\n",
       "      <th>fbs</th>\n",
       "      <th>restecg</th>\n",
       "      <th>thalachh</th>\n",
       "      <th>exng</th>\n",
       "      <th>oldpeak</th>\n",
       "      <th>slp</th>\n",
       "      <th>caa</th>\n",
       "      <th>thall</th>\n",
       "      <th>output</th>\n",
       "    </tr>\n",
       "  </thead>\n",
       "  <tbody>\n",
       "    <tr>\n",
       "      <th>0</th>\n",
       "      <td>63</td>\n",
       "      <td>1</td>\n",
       "      <td>3</td>\n",
       "      <td>145</td>\n",
       "      <td>233</td>\n",
       "      <td>1</td>\n",
       "      <td>0</td>\n",
       "      <td>150</td>\n",
       "      <td>0</td>\n",
       "      <td>2.3</td>\n",
       "      <td>0</td>\n",
       "      <td>0</td>\n",
       "      <td>1</td>\n",
       "      <td>1</td>\n",
       "    </tr>\n",
       "    <tr>\n",
       "      <th>1</th>\n",
       "      <td>37</td>\n",
       "      <td>1</td>\n",
       "      <td>2</td>\n",
       "      <td>130</td>\n",
       "      <td>250</td>\n",
       "      <td>0</td>\n",
       "      <td>1</td>\n",
       "      <td>187</td>\n",
       "      <td>0</td>\n",
       "      <td>3.5</td>\n",
       "      <td>0</td>\n",
       "      <td>0</td>\n",
       "      <td>2</td>\n",
       "      <td>1</td>\n",
       "    </tr>\n",
       "    <tr>\n",
       "      <th>2</th>\n",
       "      <td>41</td>\n",
       "      <td>0</td>\n",
       "      <td>1</td>\n",
       "      <td>130</td>\n",
       "      <td>204</td>\n",
       "      <td>0</td>\n",
       "      <td>0</td>\n",
       "      <td>172</td>\n",
       "      <td>0</td>\n",
       "      <td>1.4</td>\n",
       "      <td>2</td>\n",
       "      <td>0</td>\n",
       "      <td>2</td>\n",
       "      <td>1</td>\n",
       "    </tr>\n",
       "    <tr>\n",
       "      <th>3</th>\n",
       "      <td>56</td>\n",
       "      <td>1</td>\n",
       "      <td>1</td>\n",
       "      <td>120</td>\n",
       "      <td>236</td>\n",
       "      <td>0</td>\n",
       "      <td>1</td>\n",
       "      <td>178</td>\n",
       "      <td>0</td>\n",
       "      <td>0.8</td>\n",
       "      <td>2</td>\n",
       "      <td>0</td>\n",
       "      <td>2</td>\n",
       "      <td>1</td>\n",
       "    </tr>\n",
       "    <tr>\n",
       "      <th>4</th>\n",
       "      <td>57</td>\n",
       "      <td>0</td>\n",
       "      <td>0</td>\n",
       "      <td>120</td>\n",
       "      <td>354</td>\n",
       "      <td>0</td>\n",
       "      <td>1</td>\n",
       "      <td>163</td>\n",
       "      <td>1</td>\n",
       "      <td>0.6</td>\n",
       "      <td>2</td>\n",
       "      <td>0</td>\n",
       "      <td>2</td>\n",
       "      <td>1</td>\n",
       "    </tr>\n",
       "    <tr>\n",
       "      <th>...</th>\n",
       "      <td>...</td>\n",
       "      <td>...</td>\n",
       "      <td>...</td>\n",
       "      <td>...</td>\n",
       "      <td>...</td>\n",
       "      <td>...</td>\n",
       "      <td>...</td>\n",
       "      <td>...</td>\n",
       "      <td>...</td>\n",
       "      <td>...</td>\n",
       "      <td>...</td>\n",
       "      <td>...</td>\n",
       "      <td>...</td>\n",
       "      <td>...</td>\n",
       "    </tr>\n",
       "    <tr>\n",
       "      <th>298</th>\n",
       "      <td>57</td>\n",
       "      <td>0</td>\n",
       "      <td>0</td>\n",
       "      <td>140</td>\n",
       "      <td>241</td>\n",
       "      <td>0</td>\n",
       "      <td>1</td>\n",
       "      <td>123</td>\n",
       "      <td>1</td>\n",
       "      <td>0.2</td>\n",
       "      <td>1</td>\n",
       "      <td>0</td>\n",
       "      <td>3</td>\n",
       "      <td>0</td>\n",
       "    </tr>\n",
       "    <tr>\n",
       "      <th>299</th>\n",
       "      <td>45</td>\n",
       "      <td>1</td>\n",
       "      <td>3</td>\n",
       "      <td>110</td>\n",
       "      <td>264</td>\n",
       "      <td>0</td>\n",
       "      <td>1</td>\n",
       "      <td>132</td>\n",
       "      <td>0</td>\n",
       "      <td>1.2</td>\n",
       "      <td>1</td>\n",
       "      <td>0</td>\n",
       "      <td>3</td>\n",
       "      <td>0</td>\n",
       "    </tr>\n",
       "    <tr>\n",
       "      <th>300</th>\n",
       "      <td>68</td>\n",
       "      <td>1</td>\n",
       "      <td>0</td>\n",
       "      <td>144</td>\n",
       "      <td>193</td>\n",
       "      <td>1</td>\n",
       "      <td>1</td>\n",
       "      <td>141</td>\n",
       "      <td>0</td>\n",
       "      <td>3.4</td>\n",
       "      <td>1</td>\n",
       "      <td>2</td>\n",
       "      <td>3</td>\n",
       "      <td>0</td>\n",
       "    </tr>\n",
       "    <tr>\n",
       "      <th>301</th>\n",
       "      <td>57</td>\n",
       "      <td>1</td>\n",
       "      <td>0</td>\n",
       "      <td>130</td>\n",
       "      <td>131</td>\n",
       "      <td>0</td>\n",
       "      <td>1</td>\n",
       "      <td>115</td>\n",
       "      <td>1</td>\n",
       "      <td>1.2</td>\n",
       "      <td>1</td>\n",
       "      <td>1</td>\n",
       "      <td>3</td>\n",
       "      <td>0</td>\n",
       "    </tr>\n",
       "    <tr>\n",
       "      <th>302</th>\n",
       "      <td>57</td>\n",
       "      <td>0</td>\n",
       "      <td>1</td>\n",
       "      <td>130</td>\n",
       "      <td>236</td>\n",
       "      <td>0</td>\n",
       "      <td>0</td>\n",
       "      <td>174</td>\n",
       "      <td>0</td>\n",
       "      <td>0.0</td>\n",
       "      <td>1</td>\n",
       "      <td>1</td>\n",
       "      <td>2</td>\n",
       "      <td>0</td>\n",
       "    </tr>\n",
       "  </tbody>\n",
       "</table>\n",
       "<p>303 rows × 14 columns</p>\n",
       "</div>"
      ],
      "text/plain": [
       "     age  sex  cp  trtbps  chol  fbs  restecg  thalachh  exng  oldpeak  slp  \\\n",
       "0     63    1   3     145   233    1        0       150     0      2.3    0   \n",
       "1     37    1   2     130   250    0        1       187     0      3.5    0   \n",
       "2     41    0   1     130   204    0        0       172     0      1.4    2   \n",
       "3     56    1   1     120   236    0        1       178     0      0.8    2   \n",
       "4     57    0   0     120   354    0        1       163     1      0.6    2   \n",
       "..   ...  ...  ..     ...   ...  ...      ...       ...   ...      ...  ...   \n",
       "298   57    0   0     140   241    0        1       123     1      0.2    1   \n",
       "299   45    1   3     110   264    0        1       132     0      1.2    1   \n",
       "300   68    1   0     144   193    1        1       141     0      3.4    1   \n",
       "301   57    1   0     130   131    0        1       115     1      1.2    1   \n",
       "302   57    0   1     130   236    0        0       174     0      0.0    1   \n",
       "\n",
       "     caa  thall  output  \n",
       "0      0      1       1  \n",
       "1      0      2       1  \n",
       "2      0      2       1  \n",
       "3      0      2       1  \n",
       "4      0      2       1  \n",
       "..   ...    ...     ...  \n",
       "298    0      3       0  \n",
       "299    0      3       0  \n",
       "300    2      3       0  \n",
       "301    1      3       0  \n",
       "302    1      2       0  \n",
       "\n",
       "[303 rows x 14 columns]"
      ]
     },
     "execution_count": 7,
     "metadata": {},
     "output_type": "execute_result"
    }
   ],
   "source": [
    "heart_data"
   ]
  },
  {
   "cell_type": "code",
   "execution_count": 8,
   "metadata": {
    "id": "cQHc7FNH63rw"
   },
   "outputs": [],
   "source": [
    "y=heart_data['output']\n",
    "X=heart_data.drop(['output'],axis=1)"
   ]
  },
  {
   "cell_type": "code",
   "execution_count": 9,
   "metadata": {
    "id": "8WZrJ8wz6oBV"
   },
   "outputs": [],
   "source": [
    "# create X and Y datasets for training\n",
    "from sklearn import model_selection\n",
    "\n",
    "X_train, X_test, y_train, y_test = model_selection.train_test_split(X, y, stratify=y, random_state=42, test_size = 0.2)"
   ]
  },
  {
   "cell_type": "markdown",
   "metadata": {
    "id": "oRlTGDUfdxDQ"
   },
   "source": [
    "Scaling the data"
   ]
  },
  {
   "cell_type": "code",
   "execution_count": 10,
   "metadata": {
    "id": "3vBOKlEkHdO3"
   },
   "outputs": [],
   "source": [
    "\n",
    "from sklearn.preprocessing import StandardScaler\n",
    "sc = StandardScaler()\n",
    "X_train = sc.fit_transform(X_train)\n",
    "X_test = sc.transform(X_test)"
   ]
  },
  {
   "cell_type": "markdown",
   "metadata": {
    "id": "zphSkA8Cd0TN"
   },
   "source": [
    "Building an ANN Model"
   ]
  },
  {
   "cell_type": "code",
   "execution_count": 11,
   "metadata": {
    "id": "5rRr6bADNz2p"
   },
   "outputs": [],
   "source": [
    "from keras.models import Sequential, Model\n",
    "from keras.layers import Dense, Input\n",
    "from sklearn.model_selection import GridSearchCV\n",
    "# from keras.wrappers.scikit_learn import KerasClassifier\n",
    "from tensorflow.keras.wrappers.scikit_learn import KerasClassifier\n",
    "\n",
    "from keras.callbacks import EarlyStopping\n",
    "ann = tf.keras.models.Sequential()\n",
    "ann.add(tf.keras.layers.Dense(units=8, activation='relu'))\n",
    "ann.add(tf.keras.layers.Dense(units=8, activation='relu'))\n",
    "ann.add(tf.keras.layers.Dense(units=1, activation='sigmoid'))\n",
    "ann.compile(optimizer = 'adam', loss = 'binary_crossentropy', metrics = ['accuracy'])\n",
    "early_stopping = EarlyStopping(monitor=\"loss\")# early stop patience\n",
    " #verbose set to 1 will show the training process\n",
    " "
   ]
  },
  {
   "cell_type": "code",
   "execution_count": 12,
   "metadata": {
    "id": "SXtO_JzGTJL7"
   },
   "outputs": [],
   "source": [
    "history = ann.fit(X_train, y_train,\n",
    "          batch_size=32,\n",
    "          epochs=55,\n",
    "          verbose=0)"
   ]
  },
  {
   "cell_type": "code",
   "execution_count": 13,
   "metadata": {
    "colab": {
     "base_uri": "https://localhost:8080/"
    },
    "id": "6BPWjHr4TLDB",
    "outputId": "267d4f44-687f-46b9-9897-a18be291c4ba"
   },
   "outputs": [
    {
     "name": "stdout",
     "output_type": "stream",
     "text": [
      "2/2 [==============================] - 0s 0s/step\n"
     ]
    }
   ],
   "source": [
    "y_pred = ann.predict(X_test)\n",
    "y_pred = (y_pred > 0.5)\n"
   ]
  },
  {
   "cell_type": "code",
   "execution_count": 14,
   "metadata": {
    "colab": {
     "base_uri": "https://localhost:8080/"
    },
    "id": "Q9GsbJ2eTNp2",
    "outputId": "2200f978-099b-4953-c40e-bdef623ad79a"
   },
   "outputs": [
    {
     "name": "stdout",
     "output_type": "stream",
     "text": [
      "[[18 10]\n",
      " [ 2 31]]\n",
      "Accuracy: 80.33%\n"
     ]
    }
   ],
   "source": [
    "from sklearn.metrics import confusion_matrix, accuracy_score\n",
    "cm = confusion_matrix(y_test, y_pred)\n",
    "print(cm)\n",
    "print(\"Accuracy: {:.2f}%\".format(accuracy_score(y_test, y_pred)*100))"
   ]
  },
  {
   "cell_type": "markdown",
   "metadata": {
    "id": "J94PiVg3d5w6"
   },
   "source": [
    "Genetic Algorithm"
   ]
  },
  {
   "cell_type": "code",
   "execution_count": 15,
   "metadata": {
    "id": "cZYa2Ea-Orve"
   },
   "outputs": [],
   "source": [
    "import random\n",
    "import numpy as np\n",
    "import tensorflow as tf\n",
    "from tensorflow.keras.optimizers import Adam\n",
    "\n",
    "# Define the bounds of the search space for hyperparameters\n",
    "LEARNING_RATE_BOUNDS = [0.0001, 0.1]\n",
    "EPOCHS_BOUNDS = [10, 100]\n",
    "BATCH_SIZE_BOUNDS = [32, 256]\n",
    "\n",
    "# Define the size of the population and number of generations to evolve\n",
    "POPULATION_SIZE = 20\n",
    "NUM_GENERATIONS = 50\n",
    "\n",
    "# Define the fitness function to evaluate the quality of each set of hyperparameters\n",
    "def evaluate_fitness(hyperparameters):\n",
    "   ann = tf.keras.models.Sequential()\n",
    "   ann.add(tf.keras.layers.Dense(units=8, activation='relu'))\n",
    "   ann.add(tf.keras.layers.Dense(units=8, activation='relu'))\n",
    "   ann.add(tf.keras.layers.Dense(units=1, activation='sigmoid'))\n",
    "   ann.compile(optimizer = Adam(learning_rate=hyperparameters[\"learning_rate\"]), loss = 'binary_crossentropy', metrics = ['accuracy'])\n",
    "   print(\"--------------------------------------------------------------------------\")\n",
    "   ann.fit(X_train, y_train, batch_size=hyperparameters[\"batch_size\"], epochs=hyperparameters[\"epochs\"])\n",
    "   print(\"--------------------------------------------------------------------------\")\n",
    "   _,accuracy = ann.evaluate(X_test, y_test)\n",
    "   return accuracy\n",
    "\n",
    "# Define the genetic algorithm\n",
    "def genetic_algorithm():\n",
    "    # Initialize a population of random sets of hyperparameters\n",
    "    population = []\n",
    "    for i in range(POPULATION_SIZE):\n",
    "        learning_rate = random.uniform(*LEARNING_RATE_BOUNDS)\n",
    "        epochs = random.randint(*EPOCHS_BOUNDS)\n",
    "        batch_size = random.randint(*BATCH_SIZE_BOUNDS)\n",
    "        hyperparameters = {\"learning_rate\": learning_rate, \"epochs\": epochs, \"batch_size\": batch_size}\n",
    "        population.append(hyperparameters)\n",
    "\n",
    "    # Evolve the population over multiple generations\n",
    "    for generation in range(NUM_GENERATIONS):\n",
    "        # Evaluate the fitness of each set of hyperparameters\n",
    "        fitness_scores = []\n",
    "        for hyperparameters in population:\n",
    "            fitness_scores.append(evaluate_fitness(hyperparameters))\n",
    "\n",
    "        # Select the fittest individuals to be parents of the next generation\n",
    "        parent_indices = np.argsort(fitness_scores)[-int(POPULATION_SIZE / 2):]\n",
    "\n",
    "        # Generate offspring by randomly combining parents' hyperparameters\n",
    "        offspring = []\n",
    "        for i in range(int(POPULATION_SIZE / 2)):\n",
    "            parent1_index = random.choice(parent_indices)\n",
    "            parent2_index = random.choice(parent_indices)\n",
    "            offspring_hyperparameters = {}\n",
    "            for key in hyperparameters.keys():\n",
    "                if random.random() < 0.5:\n",
    "                    offspring_hyperparameters[key] = population[parent1_index][key]\n",
    "                else:\n",
    "                    offspring_hyperparameters[key] = population[parent2_index][key]\n",
    "            offspring.append(offspring_hyperparameters)\n",
    "\n",
    "        # Mutate the offspring by randomly changing hyperparameters\n",
    "        for i in range(int(POPULATION_SIZE / 2)):\n",
    "            for key in offspring[i].keys():\n",
    "                if random.random() < 0.1:\n",
    "                    if key == \"learning_rate\":\n",
    "                        offspring[i][key] = random.uniform(*LEARNING_RATE_BOUNDS)\n",
    "                    elif key == \"epochs\":\n",
    "                        offspring[i][key] = random.randint(*EPOCHS_BOUNDS)\n",
    "                    elif key == \"batch_size\":\n",
    "                        offspring[i][key] = random.randint(*BATCH_SIZE_BOUNDS)\n",
    "\n",
    "        # Replace the old population with the new offspring\n",
    "        population = offspring\n",
    "\n",
    "    # Select the best set of hyperparameters from the final population\n",
    "    best_hyperparameters = max(population, key=lambda x: evaluate_fitness(x))\n",
    "\n",
    "    return best_hyperparameters\n"
   ]
  },
  {
   "cell_type": "code",
   "execution_count": 16,
   "metadata": {
    "colab": {
     "base_uri": "https://localhost:8080/"
    },
    "id": "hYl-Y5xWTUU0",
    "outputId": "d328ed2a-603f-4e7b-d6ef-2dc74bb893cb"
   },
   "outputs": [],
   "source": [
    "# print(genetic_algorithm())"
   ]
  },
  {
   "cell_type": "code",
   "execution_count": 17,
   "metadata": {
    "colab": {
     "base_uri": "https://localhost:8080/"
    },
    "id": "2dTvXEyoUsEP",
    "outputId": "ce3579d1-9d46-4997-c26b-eca2e9226f27"
   },
   "outputs": [
    {
     "name": "stdout",
     "output_type": "stream",
     "text": [
      "--------------------------------------------------------------------------\n",
      "Epoch 1/24\n",
      "4/4 [==============================] - 1s 4ms/step - loss: 0.6397 - accuracy: 0.6240\n",
      "Epoch 2/24\n",
      "4/4 [==============================] - 0s 2ms/step - loss: 0.4613 - accuracy: 0.8306\n",
      "Epoch 3/24\n",
      "4/4 [==============================] - 0s 6ms/step - loss: 0.4060 - accuracy: 0.8306\n",
      "Epoch 4/24\n",
      "4/4 [==============================] - 0s 4ms/step - loss: 0.3669 - accuracy: 0.8430\n",
      "Epoch 5/24\n",
      "4/4 [==============================] - 0s 5ms/step - loss: 0.3249 - accuracy: 0.8678\n",
      "Epoch 6/24\n",
      "4/4 [==============================] - 0s 2ms/step - loss: 0.3143 - accuracy: 0.8636\n",
      "Epoch 7/24\n",
      "4/4 [==============================] - 0s 3ms/step - loss: 0.2868 - accuracy: 0.8719\n",
      "Epoch 8/24\n",
      "4/4 [==============================] - 0s 5ms/step - loss: 0.2705 - accuracy: 0.8802\n",
      "Epoch 9/24\n",
      "4/4 [==============================] - 0s 3ms/step - loss: 0.2524 - accuracy: 0.8843\n",
      "Epoch 10/24\n",
      "4/4 [==============================] - 0s 3ms/step - loss: 0.2381 - accuracy: 0.9008\n",
      "Epoch 11/24\n",
      "4/4 [==============================] - 0s 164us/step - loss: 0.2176 - accuracy: 0.9174\n",
      "Epoch 12/24\n",
      "4/4 [==============================] - 0s 3ms/step - loss: 0.2150 - accuracy: 0.9008\n",
      "Epoch 13/24\n",
      "4/4 [==============================] - 0s 4ms/step - loss: 0.1944 - accuracy: 0.9174\n",
      "Epoch 14/24\n",
      "4/4 [==============================] - 0s 3ms/step - loss: 0.1880 - accuracy: 0.9298\n",
      "Epoch 15/24\n",
      "4/4 [==============================] - 0s 5ms/step - loss: 0.1736 - accuracy: 0.9339\n",
      "Epoch 16/24\n",
      "4/4 [==============================] - 0s 5ms/step - loss: 0.1674 - accuracy: 0.9380\n",
      "Epoch 17/24\n",
      "4/4 [==============================] - 0s 16ms/step - loss: 0.1578 - accuracy: 0.9380\n",
      "Epoch 18/24\n",
      "4/4 [==============================] - 0s 11ms/step - loss: 0.1392 - accuracy: 0.9504\n",
      "Epoch 19/24\n",
      "4/4 [==============================] - 0s 5ms/step - loss: 0.1328 - accuracy: 0.9504\n",
      "Epoch 20/24\n",
      "4/4 [==============================] - 0s 3ms/step - loss: 0.1259 - accuracy: 0.9545\n",
      "Epoch 21/24\n",
      "4/4 [==============================] - 0s 4ms/step - loss: 0.1155 - accuracy: 0.9587\n",
      "Epoch 22/24\n",
      "4/4 [==============================] - 0s 6ms/step - loss: 0.1205 - accuracy: 0.9463\n",
      "Epoch 23/24\n",
      "4/4 [==============================] - 0s 3ms/step - loss: 0.1085 - accuracy: 0.9711\n",
      "Epoch 24/24\n",
      "4/4 [==============================] - 0s 3ms/step - loss: 0.1023 - accuracy: 0.9711\n",
      "--------------------------------------------------------------------------\n"
     ]
    }
   ],
   "source": [
    "ann = tf.keras.models.Sequential()\n",
    "ann.add(tf.keras.layers.Dense(units=8, activation='relu'))\n",
    "ann.add(tf.keras.layers.Dense(units=8, activation='relu'))\n",
    "ann.add(tf.keras.layers.Dense(units=1, activation='sigmoid'))\n",
    "ann.compile(optimizer = Adam(learning_rate= 0.05190371108611933), loss = 'binary_crossentropy', metrics = ['accuracy'])\n",
    "print(\"--------------------------------------------------------------------------\")\n",
    "ann.fit(X_train, y_train, batch_size=65, epochs=24)\n",
    "print(\"--------------------------------------------------------------------------\")"
   ]
  },
  {
   "cell_type": "code",
   "execution_count": 18,
   "metadata": {
    "colab": {
     "base_uri": "https://localhost:8080/"
    },
    "id": "POLat2FZctpg",
    "outputId": "f815f9da-bc74-4a0d-a1b3-312c53b37612"
   },
   "outputs": [
    {
     "name": "stdout",
     "output_type": "stream",
     "text": [
      "2/2 [==============================] - 0s 12ms/step - loss: 1.0494 - accuracy: 0.7213\n"
     ]
    }
   ],
   "source": [
    "_,accuracy = ann.evaluate(X_test, y_test)"
   ]
  },
  {
   "cell_type": "markdown",
   "metadata": {
    "id": "7FH_Gz4_d-cL"
   },
   "source": [
    "Bayesian Optimization"
   ]
  },
  {
   "cell_type": "code",
   "execution_count": 19,
   "metadata": {
    "colab": {
     "base_uri": "https://localhost:8080/"
    },
    "id": "-fptrVX-c9Mw",
    "outputId": "f8e0ca94-cf31-4581-cf89-ac4ad23a7558"
   },
   "outputs": [
    {
     "name": "stdout",
     "output_type": "stream",
     "text": [
      "Requirement already satisfied: bayesian-optimization in c:\\users\\dell\\anaconda3\\envs\\sk\\lib\\site-packages (1.4.3)\n",
      "Requirement already satisfied: numpy>=1.9.0 in c:\\users\\dell\\anaconda3\\envs\\sk\\lib\\site-packages (from bayesian-optimization) (1.23.5)\n",
      "Requirement already satisfied: scipy>=1.0.0 in c:\\users\\dell\\anaconda3\\envs\\sk\\lib\\site-packages (from bayesian-optimization) (1.13.0)\n",
      "Requirement already satisfied: scikit-learn>=0.18.0 in c:\\users\\dell\\anaconda3\\envs\\sk\\lib\\site-packages (from bayesian-optimization) (1.4.1.post1)\n",
      "Requirement already satisfied: colorama>=0.4.6 in c:\\users\\dell\\appdata\\roaming\\python\\python39\\site-packages (from bayesian-optimization) (0.4.6)\n",
      "Requirement already satisfied: joblib>=1.2.0 in c:\\users\\dell\\anaconda3\\envs\\sk\\lib\\site-packages (from scikit-learn>=0.18.0->bayesian-optimization) (1.3.2)\n",
      "Requirement already satisfied: threadpoolctl>=2.0.0 in c:\\users\\dell\\anaconda3\\envs\\sk\\lib\\site-packages (from scikit-learn>=0.18.0->bayesian-optimization) (3.4.0)\n"
     ]
    },
    {
     "name": "stderr",
     "output_type": "stream",
     "text": [
      "WARNING: Ignoring invalid distribution -illow (c:\\users\\dell\\appdata\\roaming\\python\\python39\\site-packages)\n",
      "WARNING: Ignoring invalid distribution -orch (c:\\users\\dell\\appdata\\roaming\\python\\python39\\site-packages)\n",
      "WARNING: Ignoring invalid distribution -illow (c:\\users\\dell\\appdata\\roaming\\python\\python39\\site-packages)\n",
      "WARNING: Ignoring invalid distribution -orch (c:\\users\\dell\\appdata\\roaming\\python\\python39\\site-packages)\n",
      "WARNING: Ignoring invalid distribution -illow (c:\\users\\dell\\appdata\\roaming\\python\\python39\\site-packages)\n",
      "WARNING: Ignoring invalid distribution -orch (c:\\users\\dell\\appdata\\roaming\\python\\python39\\site-packages)\n",
      "WARNING: Ignoring invalid distribution -illow (c:\\users\\dell\\appdata\\roaming\\python\\python39\\site-packages)\n",
      "WARNING: Ignoring invalid distribution -orch (c:\\users\\dell\\appdata\\roaming\\python\\python39\\site-packages)\n",
      "WARNING: Ignoring invalid distribution -illow (c:\\users\\dell\\appdata\\roaming\\python\\python39\\site-packages)\n",
      "WARNING: Ignoring invalid distribution -orch (c:\\users\\dell\\appdata\\roaming\\python\\python39\\site-packages)\n",
      "WARNING: Ignoring invalid distribution -illow (c:\\users\\dell\\appdata\\roaming\\python\\python39\\site-packages)\n",
      "WARNING: Ignoring invalid distribution -orch (c:\\users\\dell\\appdata\\roaming\\python\\python39\\site-packages)\n"
     ]
    }
   ],
   "source": [
    "!pip install bayesian-optimization\n"
   ]
  },
  {
   "cell_type": "code",
   "execution_count": 20,
   "metadata": {
    "id": "ZZ4_snMwEmgC"
   },
   "outputs": [],
   "source": [
    "import pandas as pd\n",
    "from sklearn.model_selection import cross_val_score\n",
    "from sklearn.ensemble import RandomForestClassifier\n",
    "from bayes_opt import BayesianOptimization\n"
   ]
  },
  {
   "cell_type": "code",
   "execution_count": 21,
   "metadata": {
    "id": "3uIYjEZxQJ9p"
   },
   "outputs": [],
   "source": [
    "from bayes_opt import BayesianOptimization\n",
    "from keras.callbacks import EarlyStopping\n",
    "# Define the function to be optimized\n",
    "def optimize(learning_rate,neurons, batch_size, epochs,  patience):\n",
    "    # Convert integer parameters to their appropriate types\n",
    "    neurons = int(neurons)\n",
    "    batch_size = int(batch_size)\n",
    "    epochs = int(epochs)\n",
    "    patience = int(patience)\n",
    "    \n",
    "    # Create the ANN model\n",
    "    ann = tf.keras.models.Sequential()\n",
    "    ann.add(tf.keras.layers.Dense(units=neurons, activation=\"relu\"))\n",
    "    ann.add(tf.keras.layers.Dense(units=neurons, activation=\"relu\"))\n",
    "    ann.add(tf.keras.layers.Dense(units=1, activation='sigmoid'))\n",
    "    ann.compile(optimizer=Adam(learning_rate=learning_rate), loss='binary_crossentropy', metrics=['accuracy'])\n",
    "    \n",
    "    # Define early stopping\n",
    "    early_stopping = EarlyStopping(monitor=\"loss\", patience=patience)\n",
    "    \n",
    "    # Train the model\n",
    "    history = ann.fit(X_train, y_train, batch_size=batch_size, epochs=epochs, callbacks=[early_stopping], verbose=0)\n",
    "    \n",
    "    # Get the validation accuracy\n",
    "    val_loss, val_acc = ann.evaluate(X_test, y_test)\n",
    "    \n",
    "    return val_acc\n",
    "\n",
    "# Define the parameter ranges for optimization\n",
    "pbounds = {\n",
    "    'learning_rate': (0.01, 0.1),\n",
    "    'neurons': (8, 64),\n",
    "    'batch_size': (8, 64),\n",
    "    'epochs': (50, 100),\n",
    "    'patience': (1, 5),\n",
    "\n",
    "}\n",
    "\n"
   ]
  },
  {
   "cell_type": "code",
   "execution_count": 22,
   "metadata": {
    "colab": {
     "base_uri": "https://localhost:8080/"
    },
    "id": "_bYuw6vb7lNL",
    "outputId": "1cb6e28a-54c7-4640-88c5-ac0ed2ee484c"
   },
   "outputs": [
    {
     "name": "stdout",
     "output_type": "stream",
     "text": [
      "|   iter    |  target   | batch_... |  epochs   | learni... |  neurons  | patience  |\n",
      "-------------------------------------------------------------------------------------\n",
      "2/2 [==============================] - 0s 14ms/step - loss: 0.5810 - accuracy: 0.7869\n",
      "| \u001b[0m1        \u001b[0m | \u001b[0m0.7869   \u001b[0m | \u001b[0m28.97    \u001b[0m | \u001b[0m97.54    \u001b[0m | \u001b[0m0.07588  \u001b[0m | \u001b[0m41.52    \u001b[0m | \u001b[0m1.624    \u001b[0m |\n",
      "2/2 [==============================] - 0s 14ms/step - loss: 0.8104 - accuracy: 0.7377\n",
      "| \u001b[0m2        \u001b[0m | \u001b[0m0.7377   \u001b[0m | \u001b[0m16.74    \u001b[0m | \u001b[0m52.9     \u001b[0m | \u001b[0m0.08796  \u001b[0m | \u001b[0m41.66    \u001b[0m | \u001b[0m3.832    \u001b[0m |\n",
      "2/2 [==============================] - 0s 17ms/step - loss: 0.5584 - accuracy: 0.7049\n",
      "| \u001b[0m3        \u001b[0m | \u001b[0m0.7049   \u001b[0m | \u001b[0m9.153    \u001b[0m | \u001b[0m98.5     \u001b[0m | \u001b[0m0.08492  \u001b[0m | \u001b[0m19.89    \u001b[0m | \u001b[0m1.727    \u001b[0m |\n",
      "WARNING:tensorflow:5 out of the last 9 calls to <function Model.make_test_function.<locals>.test_function at 0x000001CC58069CA0> triggered tf.function retracing. Tracing is expensive and the excessive number of tracings could be due to (1) creating @tf.function repeatedly in a loop, (2) passing tensors with different shapes, (3) passing Python objects instead of tensors. For (1), please define your @tf.function outside of the loop. For (2), @tf.function has reduce_retracing=True option that can avoid unnecessary retracing. For (3), please refer to https://www.tensorflow.org/guide/function#controlling_retracing and https://www.tensorflow.org/api_docs/python/tf/function for  more details.\n",
      "2/2 [==============================] - 0s 20ms/step - loss: 0.5567 - accuracy: 0.8033\n",
      "| \u001b[95m4        \u001b[0m | \u001b[95m0.8033   \u001b[0m | \u001b[95m18.27    \u001b[0m | \u001b[95m65.21    \u001b[0m | \u001b[95m0.05723  \u001b[0m | \u001b[95m32.19    \u001b[0m | \u001b[95m2.165    \u001b[0m |\n",
      "WARNING:tensorflow:6 out of the last 11 calls to <function Model.make_test_function.<locals>.test_function at 0x000001CC55639B80> triggered tf.function retracing. Tracing is expensive and the excessive number of tracings could be due to (1) creating @tf.function repeatedly in a loop, (2) passing tensors with different shapes, (3) passing Python objects instead of tensors. For (1), please define your @tf.function outside of the loop. For (2), @tf.function has reduce_retracing=True option that can avoid unnecessary retracing. For (3), please refer to https://www.tensorflow.org/guide/function#controlling_retracing and https://www.tensorflow.org/api_docs/python/tf/function for  more details.\n",
      "2/2 [==============================] - 0s 12ms/step - loss: 1.3893 - accuracy: 0.7705\n",
      "| \u001b[0m5        \u001b[0m | \u001b[0m0.7705   \u001b[0m | \u001b[0m42.26    \u001b[0m | \u001b[0m56.97    \u001b[0m | \u001b[0m0.03629  \u001b[0m | \u001b[0m28.52    \u001b[0m | \u001b[0m2.824    \u001b[0m |\n",
      "2/2 [==============================] - 0s 13ms/step - loss: 0.8883 - accuracy: 0.8033\n",
      "| \u001b[0m6        \u001b[0m | \u001b[0m0.8033   \u001b[0m | \u001b[0m29.68    \u001b[0m | \u001b[0m84.56    \u001b[0m | \u001b[0m0.03322  \u001b[0m | \u001b[0m54.59    \u001b[0m | \u001b[0m3.439    \u001b[0m |\n",
      "2/2 [==============================] - 0s 11ms/step - loss: 2.6833 - accuracy: 0.7541\n",
      "| \u001b[0m7        \u001b[0m | \u001b[0m0.7541   \u001b[0m | \u001b[0m58.76    \u001b[0m | \u001b[0m55.27    \u001b[0m | \u001b[0m0.02325  \u001b[0m | \u001b[0m59.82    \u001b[0m | \u001b[0m4.083    \u001b[0m |\n",
      "2/2 [==============================] - 0s 5ms/step - loss: 0.8485 - accuracy: 0.7377\n",
      "| \u001b[0m8        \u001b[0m | \u001b[0m0.7377   \u001b[0m | \u001b[0m40.7     \u001b[0m | \u001b[0m52.39    \u001b[0m | \u001b[0m0.01322  \u001b[0m | \u001b[0m13.85    \u001b[0m | \u001b[0m1.933    \u001b[0m |\n",
      "2/2 [==============================] - 0s 17ms/step - loss: 0.7463 - accuracy: 0.7869\n",
      "| \u001b[0m9        \u001b[0m | \u001b[0m0.7869   \u001b[0m | \u001b[0m34.24    \u001b[0m | \u001b[0m99.65    \u001b[0m | \u001b[0m0.09297  \u001b[0m | \u001b[0m32.18    \u001b[0m | \u001b[0m2.262    \u001b[0m |\n",
      "2/2 [==============================] - 0s 17ms/step - loss: 0.5171 - accuracy: 0.7869\n",
      "| \u001b[0m10       \u001b[0m | \u001b[0m0.7869   \u001b[0m | \u001b[0m17.1     \u001b[0m | \u001b[0m64.59    \u001b[0m | \u001b[0m0.08616  \u001b[0m | \u001b[0m33.23    \u001b[0m | \u001b[0m1.636    \u001b[0m |\n",
      "2/2 [==============================] - 0s 14ms/step - loss: 1.4621 - accuracy: 0.7377\n",
      "| \u001b[0m11       \u001b[0m | \u001b[0m0.7377   \u001b[0m | \u001b[0m21.63    \u001b[0m | \u001b[0m67.34    \u001b[0m | \u001b[0m0.01     \u001b[0m | \u001b[0m29.15    \u001b[0m | \u001b[0m3.412    \u001b[0m |\n",
      "2/2 [==============================] - 0s 19ms/step - loss: 0.5065 - accuracy: 0.7869\n",
      "| \u001b[0m12       \u001b[0m | \u001b[0m0.7869   \u001b[0m | \u001b[0m28.72    \u001b[0m | \u001b[0m83.92    \u001b[0m | \u001b[0m0.0827   \u001b[0m | \u001b[0m55.62    \u001b[0m | \u001b[0m1.15     \u001b[0m |\n",
      "2/2 [==============================] - 0s 12ms/step - loss: 0.9258 - accuracy: 0.7377\n",
      "| \u001b[0m13       \u001b[0m | \u001b[0m0.7377   \u001b[0m | \u001b[0m31.79    \u001b[0m | \u001b[0m85.61    \u001b[0m | \u001b[0m0.03415  \u001b[0m | \u001b[0m52.79    \u001b[0m | \u001b[0m2.472    \u001b[0m |\n",
      "2/2 [==============================] - 0s 20ms/step - loss: 0.5818 - accuracy: 0.7705\n",
      "| \u001b[0m14       \u001b[0m | \u001b[0m0.7705   \u001b[0m | \u001b[0m18.7     \u001b[0m | \u001b[0m66.42    \u001b[0m | \u001b[0m0.04304  \u001b[0m | \u001b[0m33.46    \u001b[0m | \u001b[0m1.398    \u001b[0m |\n",
      "2/2 [==============================] - 0s 10ms/step - loss: 1.1062 - accuracy: 0.7377\n",
      "| \u001b[0m15       \u001b[0m | \u001b[0m0.7377   \u001b[0m | \u001b[0m28.46    \u001b[0m | \u001b[0m83.42    \u001b[0m | \u001b[0m0.01002  \u001b[0m | \u001b[0m55.77    \u001b[0m | \u001b[0m4.395    \u001b[0m |\n",
      "=====================================================================================\n"
     ]
    }
   ],
   "source": [
    "# Create an instance of BayesianOptimization\n",
    "optimizer = BayesianOptimization(f=optimize, pbounds=pbounds, random_state=42)\n",
    "\n",
    "# Perform the optimization\n",
    "optimizer.maximize(init_points=5, n_iter=10)\n",
    "\n",
    "# Get the best hyperparameters\n",
    "best_params = optimizer.max['params']\n"
   ]
  },
  {
   "cell_type": "markdown",
   "metadata": {
    "id": "rUuQdHhqeDGy"
   },
   "source": [
    "Grid SearchCV"
   ]
  },
  {
   "cell_type": "code",
   "execution_count": 23,
   "metadata": {
    "colab": {
     "base_uri": "https://localhost:8080/"
    },
    "id": "_A0SVudFRVsH",
    "outputId": "f53d25a7-ccfc-4db1-b82a-51bc07c3d9e2"
   },
   "outputs": [
    {
     "name": "stderr",
     "output_type": "stream",
     "text": [
      "C:\\Users\\DELL\\AppData\\Local\\Temp\\ipykernel_16752\\2281590038.py:17: DeprecationWarning: KerasClassifier is deprecated, use Sci-Keras (https://github.com/adriangb/scikeras) instead. See https://www.adriangb.com/scikeras/stable/migration.html for help migrating.\n",
      "  ann_model = KerasClassifier(build_fn=create_ann, verbose=0)\n"
     ]
    },
    {
     "data": {
      "text/plain": [
       "<keras.callbacks.History at 0x1cc5c4d6d60>"
      ]
     },
     "execution_count": 23,
     "metadata": {},
     "output_type": "execute_result"
    }
   ],
   "source": [
    "from sklearn.model_selection import GridSearchCV\n",
    "from tensorflow.keras.wrappers.scikit_learn import KerasClassifier\n",
    "\n",
    "# Define the ANN model\n",
    "def create_ann(neurons=32, activation='relu', learning_rate=0.01, epochs=75):\n",
    "    ann = tf.keras.models.Sequential()\n",
    "    ann.add(tf.keras.layers.Dense(units=8, activation=activation))\n",
    "    ann.add(tf.keras.layers.Dense(units=8, activation=activation))\n",
    "    ann.add(tf.keras.layers.Dense(units=1, activation='sigmoid'))\n",
    "    \n",
    "    optimizer = tf.keras.optimizers.Adam(learning_rate=learning_rate)\n",
    "    ann.compile(optimizer=optimizer, loss='binary_crossentropy', metrics=['accuracy'])\n",
    "    \n",
    "    return ann\n",
    "\n",
    "# Create an instance of the KerasClassifier\n",
    "ann_model = KerasClassifier(build_fn=create_ann, verbose=0)\n",
    "\n",
    "# Define the parameter grid\n",
    "param_grid = {\n",
    "    'neurons': [16, 32, 64],\n",
    "    'activation': ['relu', 'sigmoid'],\n",
    "    'learning_rate': [0.001, 0.01, 0.1],\n",
    "    'epochs': [50, 75, 100]\n",
    "}\n",
    "\n",
    "# Perform Grid Search CV\n",
    "grid_search = GridSearchCV(estimator=ann_model, param_grid=param_grid, cv=3)\n",
    "grid_search_result = grid_search.fit(X_train, y_train)\n",
    "\n",
    "# Get the best parameters and best score\n",
    "best_params = grid_search_result.best_params_\n",
    "best_score = grid_search_result.best_score_\n",
    "\n",
    "# Train the final model using the best parameters\n",
    "final_model = create_ann(\n",
    "    neurons=best_params['neurons'],\n",
    "    activation=best_params['activation'],\n",
    "    learning_rate=best_params['learning_rate'],\n",
    "    epochs=best_params['epochs']\n",
    ")\n",
    "final_model.fit(X_train, y_train, epochs=best_params['epochs'], verbose=0)\n"
   ]
  },
  {
   "cell_type": "code",
   "execution_count": 24,
   "metadata": {
    "colab": {
     "base_uri": "https://localhost:8080/"
    },
    "id": "PN49v-75ZXN8",
    "outputId": "6354a7fa-6ef1-4c3b-8474-f170295c92da"
   },
   "outputs": [
    {
     "name": "stdout",
     "output_type": "stream",
     "text": [
      "Best Parameters: {'activation': 'sigmoid', 'epochs': 100, 'learning_rate': 0.01, 'neurons': 64}\n",
      "2/2 [==============================] - 0s 0s/step - loss: 0.4694 - accuracy: 0.7541\n",
      "Accuracy: 0.7540983557701111\n"
     ]
    }
   ],
   "source": [
    "print(f\"Best Parameters: {best_params}\")\n",
    "val_loss, val_acc=final_model.evaluate(X_test,y_test)\n",
    "print(f\"Accuracy: {val_acc}\" )"
   ]
  },
  {
   "cell_type": "markdown",
   "metadata": {
    "id": "oO728908eHl8"
   },
   "source": [
    "Randomized SearchCV"
   ]
  },
  {
   "cell_type": "code",
   "execution_count": 25,
   "metadata": {
    "colab": {
     "base_uri": "https://localhost:8080/"
    },
    "id": "orrV0fjGW6lN",
    "outputId": "a761e7bf-8667-4e5d-cabf-cb7111ec666e"
   },
   "outputs": [
    {
     "name": "stderr",
     "output_type": "stream",
     "text": [
      "C:\\Users\\DELL\\AppData\\Local\\Temp\\ipykernel_16752\\155339738.py:15: DeprecationWarning: KerasClassifier is deprecated, use Sci-Keras (https://github.com/adriangb/scikeras) instead. See https://www.adriangb.com/scikeras/stable/migration.html for help migrating.\n",
      "  ann_model = KerasClassifier(build_fn=create_ann, epochs=75, batch_size=32, verbose=0)\n"
     ]
    },
    {
     "data": {
      "text/plain": [
       "<keras.callbacks.History at 0x1cc6b48a2b0>"
      ]
     },
     "execution_count": 25,
     "metadata": {},
     "output_type": "execute_result"
    }
   ],
   "source": [
    "from sklearn.model_selection import RandomizedSearchCV\n",
    "from tensorflow.keras.wrappers.scikit_learn import KerasClassifier\n",
    "from scipy.stats import randint as sp_randint\n",
    "\n",
    "# Define the ANN model\n",
    "def create_ann(neurons=32, activation='relu'):\n",
    "    ann = tf.keras.models.Sequential()\n",
    "    ann.add(tf.keras.layers.Dense(units=8, activation=activation))\n",
    "    ann.add(tf.keras.layers.Dense(units=8, activation=activation))\n",
    "    ann.add(tf.keras.layers.Dense(units=1, activation='sigmoid'))\n",
    "    ann.compile(optimizer='adam', loss='binary_crossentropy', metrics=['accuracy'])\n",
    "    return ann\n",
    "\n",
    "# Create an instance of the KerasClassifier\n",
    "ann_model = KerasClassifier(build_fn=create_ann, epochs=75, batch_size=32, verbose=0)\n",
    "\n",
    "# Define the parameter distributions\n",
    "param_dist = {\n",
    "    'neurons': sp_randint(16, 64),\n",
    "    'activation': ['relu', 'sigmoid']\n",
    "}\n",
    "\n",
    "# Perform Randomized Search CV\n",
    "random_search = RandomizedSearchCV(estimator=ann_model, param_distributions=param_dist, n_iter=10, cv=3)\n",
    "random_search_result = random_search.fit(X_train, y_train)\n",
    "\n",
    "# Get the best parameters and best score\n",
    "best_params = random_search_result.best_params_\n",
    "best_score = random_search_result.best_score_\n",
    "\n",
    "# Train the final model using the best parameters\n",
    "final_model = create_ann(neurons=best_params['neurons'], activation=best_params['activation'])\n",
    "final_model.fit(X_train, y_train, epochs=75, batch_size=32, verbose=0)\n"
   ]
  },
  {
   "cell_type": "code",
   "execution_count": 26,
   "metadata": {
    "colab": {
     "base_uri": "https://localhost:8080/"
    },
    "id": "AaFNcYf2aIaS",
    "outputId": "d459003e-be3e-46c4-e30a-1780cf3c57cf"
   },
   "outputs": [
    {
     "name": "stdout",
     "output_type": "stream",
     "text": [
      "Best Parameters: {'activation': 'relu', 'neurons': 27}\n",
      "2/2 [==============================] - 0s 12ms/step - loss: 0.4692 - accuracy: 0.7705\n",
      "Accuracy: 0.7704917788505554\n"
     ]
    }
   ],
   "source": [
    "print(f\"Best Parameters: {best_params}\")\n",
    "val_loss, val_acc=final_model.evaluate(X_test,y_test)\n",
    "print(f\"Accuracy: {val_acc}\" )"
   ]
  },
  {
   "cell_type": "markdown",
   "metadata": {
    "id": "HwQP61WWeMAX"
   },
   "source": [
    "Inbuilt Genetic Algorithm"
   ]
  },
  {
   "cell_type": "code",
   "execution_count": 27,
   "metadata": {
    "colab": {
     "base_uri": "https://localhost:8080/"
    },
    "id": "1G3oO9DRREOW",
    "outputId": "18e4a35a-407e-4a25-c3fb-5c7d137868bd"
   },
   "outputs": [
    {
     "name": "stdout",
     "output_type": "stream",
     "text": [
      "Requirement already satisfied: tpot in c:\\users\\dell\\anaconda3\\envs\\sk\\lib\\site-packages (0.12.2)\n",
      "Requirement already satisfied: numpy>=1.16.3 in c:\\users\\dell\\anaconda3\\envs\\sk\\lib\\site-packages (from tpot) (1.23.5)\n",
      "Requirement already satisfied: scipy>=1.3.1 in c:\\users\\dell\\anaconda3\\envs\\sk\\lib\\site-packages (from tpot) (1.13.0)\n",
      "Requirement already satisfied: scikit-learn>=1.4.1 in c:\\users\\dell\\anaconda3\\envs\\sk\\lib\\site-packages (from tpot) (1.4.1.post1)\n",
      "Requirement already satisfied: deap>=1.2 in c:\\users\\dell\\anaconda3\\envs\\sk\\lib\\site-packages (from tpot) (1.4.1)\n",
      "Requirement already satisfied: update-checker>=0.16 in c:\\users\\dell\\anaconda3\\envs\\sk\\lib\\site-packages (from tpot) (0.18.0)\n",
      "Requirement already satisfied: tqdm>=4.36.1 in c:\\users\\dell\\anaconda3\\envs\\sk\\lib\\site-packages (from tpot) (4.66.2)\n",
      "Requirement already satisfied: stopit>=1.1.1 in c:\\users\\dell\\anaconda3\\envs\\sk\\lib\\site-packages (from tpot) (1.1.2)\n",
      "Requirement already satisfied: pandas>=0.24.2 in c:\\users\\dell\\anaconda3\\envs\\sk\\lib\\site-packages (from tpot) (2.2.1)\n",
      "Requirement already satisfied: joblib>=0.13.2 in c:\\users\\dell\\anaconda3\\envs\\sk\\lib\\site-packages (from tpot) (1.3.2)\n",
      "Requirement already satisfied: xgboost>=1.1.0 in c:\\users\\dell\\anaconda3\\envs\\sk\\lib\\site-packages (from tpot) (2.0.3)\n",
      "Requirement already satisfied: python-dateutil>=2.8.2 in c:\\users\\dell\\anaconda3\\envs\\sk\\lib\\site-packages (from pandas>=0.24.2->tpot) (2.9.0.post0)\n",
      "Requirement already satisfied: pytz>=2020.1 in c:\\users\\dell\\anaconda3\\envs\\sk\\lib\\site-packages (from pandas>=0.24.2->tpot) (2024.1)\n",
      "Requirement already satisfied: tzdata>=2022.7 in c:\\users\\dell\\anaconda3\\envs\\sk\\lib\\site-packages (from pandas>=0.24.2->tpot) (2024.1)\n",
      "Requirement already satisfied: threadpoolctl>=2.0.0 in c:\\users\\dell\\anaconda3\\envs\\sk\\lib\\site-packages (from scikit-learn>=1.4.1->tpot) (3.4.0)\n",
      "Requirement already satisfied: colorama in c:\\users\\dell\\appdata\\roaming\\python\\python39\\site-packages (from tqdm>=4.36.1->tpot) (0.4.6)\n",
      "Requirement already satisfied: requests>=2.3.0 in c:\\users\\dell\\anaconda3\\envs\\sk\\lib\\site-packages (from update-checker>=0.16->tpot) (2.31.0)\n",
      "Requirement already satisfied: six>=1.5 in c:\\users\\dell\\appdata\\roaming\\python\\python39\\site-packages (from python-dateutil>=2.8.2->pandas>=0.24.2->tpot) (1.16.0)\n",
      "Requirement already satisfied: charset-normalizer<4,>=2 in c:\\users\\dell\\anaconda3\\envs\\sk\\lib\\site-packages (from requests>=2.3.0->update-checker>=0.16->tpot) (3.3.2)\n",
      "Requirement already satisfied: idna<4,>=2.5 in c:\\users\\dell\\anaconda3\\envs\\sk\\lib\\site-packages (from requests>=2.3.0->update-checker>=0.16->tpot) (3.6)\n",
      "Requirement already satisfied: urllib3<3,>=1.21.1 in c:\\users\\dell\\anaconda3\\envs\\sk\\lib\\site-packages (from requests>=2.3.0->update-checker>=0.16->tpot) (2.2.1)\n",
      "Requirement already satisfied: certifi>=2017.4.17 in c:\\users\\dell\\anaconda3\\envs\\sk\\lib\\site-packages (from requests>=2.3.0->update-checker>=0.16->tpot) (2024.2.2)\n"
     ]
    },
    {
     "name": "stderr",
     "output_type": "stream",
     "text": [
      "WARNING: Ignoring invalid distribution -illow (c:\\users\\dell\\appdata\\roaming\\python\\python39\\site-packages)\n",
      "WARNING: Ignoring invalid distribution -orch (c:\\users\\dell\\appdata\\roaming\\python\\python39\\site-packages)\n",
      "WARNING: Ignoring invalid distribution -illow (c:\\users\\dell\\appdata\\roaming\\python\\python39\\site-packages)\n",
      "WARNING: Ignoring invalid distribution -orch (c:\\users\\dell\\appdata\\roaming\\python\\python39\\site-packages)\n",
      "WARNING: Ignoring invalid distribution -illow (c:\\users\\dell\\appdata\\roaming\\python\\python39\\site-packages)\n",
      "WARNING: Ignoring invalid distribution -orch (c:\\users\\dell\\appdata\\roaming\\python\\python39\\site-packages)\n",
      "WARNING: Ignoring invalid distribution -illow (c:\\users\\dell\\appdata\\roaming\\python\\python39\\site-packages)\n",
      "WARNING: Ignoring invalid distribution -orch (c:\\users\\dell\\appdata\\roaming\\python\\python39\\site-packages)\n",
      "WARNING: Ignoring invalid distribution -illow (c:\\users\\dell\\appdata\\roaming\\python\\python39\\site-packages)\n",
      "WARNING: Ignoring invalid distribution -orch (c:\\users\\dell\\appdata\\roaming\\python\\python39\\site-packages)\n",
      "WARNING: Ignoring invalid distribution -illow (c:\\users\\dell\\appdata\\roaming\\python\\python39\\site-packages)\n",
      "WARNING: Ignoring invalid distribution -orch (c:\\users\\dell\\appdata\\roaming\\python\\python39\\site-packages)\n"
     ]
    }
   ],
   "source": [
    "!pip install tpot"
   ]
  },
  {
   "cell_type": "code",
   "execution_count": 28,
   "metadata": {
    "id": "c-puTRUxUm-G"
   },
   "outputs": [
    {
     "name": "stdout",
     "output_type": "stream",
     "text": [
      "Requirement already satisfied: tpot in c:\\users\\dell\\anaconda3\\envs\\sk\\lib\\site-packages (0.12.2)\n",
      "Requirement already satisfied: numpy>=1.16.3 in c:\\users\\dell\\anaconda3\\envs\\sk\\lib\\site-packages (from tpot) (1.23.5)\n",
      "Requirement already satisfied: scipy>=1.3.1 in c:\\users\\dell\\anaconda3\\envs\\sk\\lib\\site-packages (from tpot) (1.13.0)\n",
      "Requirement already satisfied: scikit-learn>=1.4.1 in c:\\users\\dell\\anaconda3\\envs\\sk\\lib\\site-packages (from tpot) (1.4.1.post1)\n",
      "Requirement already satisfied: deap>=1.2 in c:\\users\\dell\\anaconda3\\envs\\sk\\lib\\site-packages (from tpot) (1.4.1)\n",
      "Requirement already satisfied: update-checker>=0.16 in c:\\users\\dell\\anaconda3\\envs\\sk\\lib\\site-packages (from tpot) (0.18.0)\n",
      "Requirement already satisfied: tqdm>=4.36.1 in c:\\users\\dell\\anaconda3\\envs\\sk\\lib\\site-packages (from tpot) (4.66.2)\n",
      "Requirement already satisfied: stopit>=1.1.1 in c:\\users\\dell\\anaconda3\\envs\\sk\\lib\\site-packages (from tpot) (1.1.2)\n",
      "Requirement already satisfied: pandas>=0.24.2 in c:\\users\\dell\\anaconda3\\envs\\sk\\lib\\site-packages (from tpot) (2.2.1)\n",
      "Requirement already satisfied: joblib>=0.13.2 in c:\\users\\dell\\anaconda3\\envs\\sk\\lib\\site-packages (from tpot) (1.3.2)\n",
      "Requirement already satisfied: xgboost>=1.1.0 in c:\\users\\dell\\anaconda3\\envs\\sk\\lib\\site-packages (from tpot) (2.0.3)\n",
      "Requirement already satisfied: python-dateutil>=2.8.2 in c:\\users\\dell\\anaconda3\\envs\\sk\\lib\\site-packages (from pandas>=0.24.2->tpot) (2.9.0.post0)\n",
      "Requirement already satisfied: pytz>=2020.1 in c:\\users\\dell\\anaconda3\\envs\\sk\\lib\\site-packages (from pandas>=0.24.2->tpot) (2024.1)\n",
      "Requirement already satisfied: tzdata>=2022.7 in c:\\users\\dell\\anaconda3\\envs\\sk\\lib\\site-packages (from pandas>=0.24.2->tpot) (2024.1)\n",
      "Requirement already satisfied: threadpoolctl>=2.0.0 in c:\\users\\dell\\anaconda3\\envs\\sk\\lib\\site-packages (from scikit-learn>=1.4.1->tpot) (3.4.0)\n",
      "Requirement already satisfied: colorama in c:\\users\\dell\\appdata\\roaming\\python\\python39\\site-packages (from tqdm>=4.36.1->tpot) (0.4.6)\n",
      "Requirement already satisfied: requests>=2.3.0 in c:\\users\\dell\\anaconda3\\envs\\sk\\lib\\site-packages (from update-checker>=0.16->tpot) (2.31.0)\n",
      "Requirement already satisfied: six>=1.5 in c:\\users\\dell\\appdata\\roaming\\python\\python39\\site-packages (from python-dateutil>=2.8.2->pandas>=0.24.2->tpot) (1.16.0)\n",
      "Requirement already satisfied: charset-normalizer<4,>=2 in c:\\users\\dell\\anaconda3\\envs\\sk\\lib\\site-packages (from requests>=2.3.0->update-checker>=0.16->tpot) (3.3.2)\n",
      "Requirement already satisfied: idna<4,>=2.5 in c:\\users\\dell\\anaconda3\\envs\\sk\\lib\\site-packages (from requests>=2.3.0->update-checker>=0.16->tpot) (3.6)\n",
      "Requirement already satisfied: urllib3<3,>=1.21.1 in c:\\users\\dell\\anaconda3\\envs\\sk\\lib\\site-packages (from requests>=2.3.0->update-checker>=0.16->tpot) (2.2.1)\n",
      "Requirement already satisfied: certifi>=2017.4.17 in c:\\users\\dell\\anaconda3\\envs\\sk\\lib\\site-packages (from requests>=2.3.0->update-checker>=0.16->tpot) (2024.2.2)\n"
     ]
    },
    {
     "name": "stderr",
     "output_type": "stream",
     "text": [
      "WARNING: Ignoring invalid distribution -illow (c:\\users\\dell\\appdata\\roaming\\python\\python39\\site-packages)\n",
      "WARNING: Ignoring invalid distribution -orch (c:\\users\\dell\\appdata\\roaming\\python\\python39\\site-packages)\n",
      "WARNING: Ignoring invalid distribution -illow (c:\\users\\dell\\appdata\\roaming\\python\\python39\\site-packages)\n",
      "WARNING: Ignoring invalid distribution -orch (c:\\users\\dell\\appdata\\roaming\\python\\python39\\site-packages)\n",
      "WARNING: Ignoring invalid distribution -illow (c:\\users\\dell\\appdata\\roaming\\python\\python39\\site-packages)\n",
      "WARNING: Ignoring invalid distribution -orch (c:\\users\\dell\\appdata\\roaming\\python\\python39\\site-packages)\n",
      "WARNING: Ignoring invalid distribution -illow (c:\\users\\dell\\appdata\\roaming\\python\\python39\\site-packages)\n",
      "WARNING: Ignoring invalid distribution -orch (c:\\users\\dell\\appdata\\roaming\\python\\python39\\site-packages)\n",
      "WARNING: Ignoring invalid distribution -illow (c:\\users\\dell\\appdata\\roaming\\python\\python39\\site-packages)\n",
      "WARNING: Ignoring invalid distribution -orch (c:\\users\\dell\\appdata\\roaming\\python\\python39\\site-packages)\n",
      "WARNING: Ignoring invalid distribution -illow (c:\\users\\dell\\appdata\\roaming\\python\\python39\\site-packages)\n",
      "WARNING: Ignoring invalid distribution -orch (c:\\users\\dell\\appdata\\roaming\\python\\python39\\site-packages)\n"
     ]
    },
    {
     "name": "stdout",
     "output_type": "stream",
     "text": [
      "Requirement already satisfied: deap in c:\\users\\dell\\anaconda3\\envs\\sk\\lib\\site-packages (1.4.1)\n",
      "Requirement already satisfied: numpy in c:\\users\\dell\\anaconda3\\envs\\sk\\lib\\site-packages (from deap) (1.23.5)\n"
     ]
    },
    {
     "name": "stderr",
     "output_type": "stream",
     "text": [
      "WARNING: Ignoring invalid distribution -illow (c:\\users\\dell\\appdata\\roaming\\python\\python39\\site-packages)\n",
      "WARNING: Ignoring invalid distribution -orch (c:\\users\\dell\\appdata\\roaming\\python\\python39\\site-packages)\n",
      "WARNING: Ignoring invalid distribution -illow (c:\\users\\dell\\appdata\\roaming\\python\\python39\\site-packages)\n",
      "WARNING: Ignoring invalid distribution -orch (c:\\users\\dell\\appdata\\roaming\\python\\python39\\site-packages)\n",
      "WARNING: Ignoring invalid distribution -illow (c:\\users\\dell\\appdata\\roaming\\python\\python39\\site-packages)\n",
      "WARNING: Ignoring invalid distribution -orch (c:\\users\\dell\\appdata\\roaming\\python\\python39\\site-packages)\n",
      "WARNING: Ignoring invalid distribution -illow (c:\\users\\dell\\appdata\\roaming\\python\\python39\\site-packages)\n",
      "WARNING: Ignoring invalid distribution -orch (c:\\users\\dell\\appdata\\roaming\\python\\python39\\site-packages)\n",
      "WARNING: Ignoring invalid distribution -illow (c:\\users\\dell\\appdata\\roaming\\python\\python39\\site-packages)\n",
      "WARNING: Ignoring invalid distribution -orch (c:\\users\\dell\\appdata\\roaming\\python\\python39\\site-packages)\n",
      "WARNING: Ignoring invalid distribution -illow (c:\\users\\dell\\appdata\\roaming\\python\\python39\\site-packages)\n",
      "WARNING: Ignoring invalid distribution -orch (c:\\users\\dell\\appdata\\roaming\\python\\python39\\site-packages)\n"
     ]
    }
   ],
   "source": [
    "!pip install --upgrade tpot\n",
    "!pip install --upgrade deap\n"
   ]
  },
  {
   "cell_type": "code",
   "execution_count": 29,
   "metadata": {
    "id": "VR10TaGMVR_e"
   },
   "outputs": [],
   "source": [
    "from tpot import TPOTClassifier\n",
    "from sklearn.model_selection import train_test_split\n",
    "import tensorflow as tf\n",
    "from tensorflow.keras.callbacks import EarlyStopping\n",
    "import numpy as np\n",
    "from deap import creator, base, tools, algorithms\n",
    "\n",
    "# Load your data\n",
    "# X and y are your input features and labels respectively\n",
    "X_train, X_test, y_train, y_test = train_test_split(X, y, test_size=0.2)\n",
    "\n",
    "# Define the ANN architecture\n",
    "ann = tf.keras.models.Sequential()\n",
    "ann.add(tf.keras.layers.Dense(units=8, activation='relu'))\n",
    "ann.add(tf.keras.layers.Dense(units=8, activation='relu'))\n",
    "ann.add(tf.keras.layers.Dense(units=1, activation='sigmoid'))\n",
    "ann.compile(optimizer='adam', loss='binary_crossentropy', metrics=['accuracy'])\n",
    "\n",
    "# Define the evaluation function for DEAP\n",
    "def evaluate_individual(individual):\n",
    "    # Set the hyperparameters\n",
    "    learning_rate = individual[0]\n",
    "    batch_size = individual[1]\n",
    "\n",
    "    # Compile the ANN with the given hyperparameters\n",
    "    ann.compile(optimizer=tf.keras.optimizers.Adam(learning_rate=learning_rate),\n",
    "                loss='binary_crossentropy', metrics=['accuracy'])\n",
    "\n",
    "    # Train the ANN\n",
    "    ann.fit(X_train, y_train, batch_size=batch_size, epochs=10, verbose=0)\n",
    "\n",
    "    # Evaluate the ANN on the test set\n",
    "    accuracy = ann.evaluate(X_test, y_test, verbose=0)[1]\n",
    "\n",
    "    return accuracy,\n",
    "\n",
    "# Define the DEAP toolbox\n",
    "toolbox = base.Toolbox()\n",
    "\n",
    "# Define the range and type of each hyperparameter\n",
    "hyperparameter_range = {\n",
    "    'learning_rate':['constant', 'adaptive', 'invscaling'],\n",
    "    'batch_size': [16, 32, 64]\n",
    "}\n",
    "hyperparameter_types = [float, int]\n",
    "\n",
    "# Define the number of individuals in the population\n",
    "population_size = 50\n",
    "\n",
    "# Register the hyperparameters in the toolbox\n",
    "for hyperparameter_name, hyperparameter_type in zip(hyperparameter_range.keys(), hyperparameter_types):\n",
    "    toolbox.register(hyperparameter_name, np.random.choice, hyperparameter_range[hyperparameter_name])\n",
    "    toolbox.register(hyperparameter_name + \"_type\", hyperparameter_type)\n",
    "\n",
    "# Define the individual and population creation functions\n",
    "creator.create(\"FitnessMax\", base.Fitness, weights=(1.0,))\n",
    "creator.create(\"Individual\", list, fitness=creator.FitnessMax)\n",
    "toolbox.register(\"individual\", tools.initCycle, creator.Individual,\n",
    "                 (getattr(toolbox, hyperparameter_name) for hyperparameter_name in hyperparameter_range.keys()))\n",
    "toolbox.register(\"population\", tools.initRepeat, list, toolbox.individual)\n",
    "\n",
    "# Define the genetic operators\n",
    "toolbox.register(\"evaluate\", evaluate_individual)\n",
    "toolbox.register(\"mate\", tools.cxTwoPoint)\n",
    "toolbox.register(\"mutate\", tools.mutUniformInt, low=0, up=len(hyperparameter_range) - 1, indpb=0.1)\n",
    "toolbox.register(\"select\", tools.selTournament, tournsize=3)\n",
    "\n",
    "# Run the genetic algorithm using TPOT\n"
   ]
  },
  {
   "cell_type": "code",
   "execution_count": 30,
   "metadata": {
    "id": "RdR3JawwVh4W"
   },
   "outputs": [
    {
     "data": {
      "application/vnd.jupyter.widget-view+json": {
       "model_id": "1ec6983403f64c6988e9216bc1ed379f",
       "version_major": 2,
       "version_minor": 0
      },
      "text/plain": [
       "Optimization Progress:   0%|          | 0/550 [00:00<?, ?pipeline/s]"
      ]
     },
     "metadata": {},
     "output_type": "display_data"
    },
    {
     "name": "stdout",
     "output_type": "stream",
     "text": [
      "\n",
      "Generation 1 - Current best internal CV score: 0.8099489795918368\n",
      "\n",
      "Generation 2 - Current best internal CV score: 0.8099489795918368\n",
      "\n",
      "Generation 3 - Current best internal CV score: 0.8099489795918368\n",
      "\n",
      "Generation 4 - Current best internal CV score: 0.8099489795918368\n",
      "\n",
      "Generation 5 - Current best internal CV score: 0.8099489795918368\n",
      "\n",
      "Generation 6 - Current best internal CV score: 0.8099489795918368\n",
      "\n",
      "The optimized pipeline was not improved after evaluating 5 more generations. Will end the optimization process.\n",
      "\n",
      "TPOT closed prematurely. Will use the current best pipeline.\n",
      "\n",
      "Best pipeline: MLPClassifier(MLPClassifier(input_matrix, batch_size=32, learning_rate=adaptive), batch_size=16, learning_rate=constant)\n"
     ]
    },
    {
     "name": "stderr",
     "output_type": "stream",
     "text": [
      "C:\\Users\\DELL\\anaconda3\\envs\\sk\\lib\\site-packages\\sklearn\\base.py:493: UserWarning: X does not have valid feature names, but MLPClassifier was fitted with feature names\n",
      "  warnings.warn(\n",
      "C:\\Users\\DELL\\anaconda3\\envs\\sk\\lib\\site-packages\\sklearn\\base.py:493: UserWarning: X does not have valid feature names, but MLPClassifier was fitted with feature names\n",
      "  warnings.warn(\n"
     ]
    }
   ],
   "source": [
    "tpot = TPOTClassifier(generations=10, population_size=population_size, verbosity=2,\n",
    "                      early_stop=5, config_dict={'sklearn.neural_network.MLPClassifier': hyperparameter_range})\n",
    "\n",
    "# Fit TPOT to your data\n",
    "tpot.fit(X_train, y_train)\n",
    "\n",
    "# Evaluate the best pipeline found by TPOT on the test set\n",
    "best_pipeline = tpot.fitted_pipeline_\n",
    "accuracy = best_pipeline.score(X_test, y_test)\n",
    "\n",
    "\n"
   ]
  },
  {
   "cell_type": "code",
   "execution_count": 31,
   "metadata": {
    "colab": {
     "base_uri": "https://localhost:8080/"
    },
    "id": "TTIP15u5WdhX",
    "outputId": "0badee56-fc5d-47b7-c5ab-a7bdd999cdcc"
   },
   "outputs": [
    {
     "name": "stdout",
     "output_type": "stream",
     "text": [
      "Accuracy: 0.7704918032786885\n"
     ]
    }
   ],
   "source": [
    "print(\"Accuracy:\", accuracy)"
   ]
  },
  {
   "cell_type": "code",
   "execution_count": 32,
   "metadata": {
    "colab": {
     "base_uri": "https://localhost:8080/"
    },
    "id": "5FRBtCxCVkWB",
    "outputId": "2fb7851f-e9e3-4369-98bb-5dd42491b94b"
   },
   "outputs": [
    {
     "name": "stdout",
     "output_type": "stream",
     "text": [
      "Best Hyperparameters: Pipeline(steps=[('stackingestimator',\n",
      "                 StackingEstimator(estimator=MLPClassifier(batch_size=32,\n",
      "                                                           learning_rate='adaptive'))),\n",
      "                ('mlpclassifier', MLPClassifier(batch_size=16))])\n"
     ]
    }
   ],
   "source": [
    "print(f\"Best Hyperparameters: {best_pipeline }\")"
   ]
  }
 ],
 "metadata": {
  "colab": {
   "provenance": []
  },
  "kernelspec": {
   "display_name": "Python 3 (ipykernel)",
   "language": "python",
   "name": "python3"
  },
  "language_info": {
   "codemirror_mode": {
    "name": "ipython",
    "version": 3
   },
   "file_extension": ".py",
   "mimetype": "text/x-python",
   "name": "python",
   "nbconvert_exporter": "python",
   "pygments_lexer": "ipython3",
   "version": "3.9.0"
  }
 },
 "nbformat": 4,
 "nbformat_minor": 4
}
